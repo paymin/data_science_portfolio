{
 "cells": [
  {
   "attachments": {},
   "cell_type": "markdown",
   "metadata": {},
   "source": [
    "# A Face of Complacency\n",
    "\n"
   ]
  },
  {
   "cell_type": "code",
   "execution_count": 37,
   "metadata": {},
   "outputs": [],
   "source": [
    "import pandas as pd\n",
    "import numpy as np\n",
    "import matplotlib.pyplot as plt\n",
    "\n",
    "# html encoding\n",
    "import html\n",
    "\n",
    "# regular expression\n",
    "import re\n",
    "from tqdm import tqdm\n",
    "\n",
    "# nlp\n",
    "from nltk.tokenize import WordPunctTokenizer\n",
    "from nltk.sentiment.vader import SentimentIntensityAnalyzer as SIA"
   ]
  },
  {
   "cell_type": "markdown",
   "metadata": {},
   "source": [
    "## Data Loading\n",
    "### Tweet Data Loading"
   ]
  },
  {
   "cell_type": "code",
   "execution_count": 23,
   "metadata": {
    "scrolled": true
   },
   "outputs": [
    {
     "name": "stdout",
     "output_type": "stream",
     "text": [
      "<class 'pandas.core.frame.DataFrame'>\n",
      "RangeIndex: 1721475 entries, 0 to 1721474\n",
      "Data columns (total 9 columns):\n",
      " #   Column     Dtype \n",
      "---  ------     ----- \n",
      " 0   id         object\n",
      " 1   user       object\n",
      " 2   fullname   object\n",
      " 3   url        object\n",
      " 4   timestamp  object\n",
      " 5   replies    object\n",
      " 6   likes      object\n",
      " 7   retweets   object\n",
      " 8   text       object\n",
      "dtypes: object(9)\n",
      "memory usage: 118.2+ MB\n"
     ]
    }
   ],
   "source": [
    "# tweets data loading\n",
    "tweets_data = pd.read_csv('tweets_data.csv', dtype=object)\n",
    "tweets_data.info()"
   ]
  },
  {
   "cell_type": "code",
   "execution_count": 24,
   "metadata": {},
   "outputs": [
    {
     "data": {
      "text/html": [
       "<div>\n",
       "<style scoped>\n",
       "    .dataframe tbody tr th:only-of-type {\n",
       "        vertical-align: middle;\n",
       "    }\n",
       "\n",
       "    .dataframe tbody tr th {\n",
       "        vertical-align: top;\n",
       "    }\n",
       "\n",
       "    .dataframe thead th {\n",
       "        text-align: right;\n",
       "    }\n",
       "</style>\n",
       "<table border=\"1\" class=\"dataframe\">\n",
       "  <thead>\n",
       "    <tr style=\"text-align: right;\">\n",
       "      <th></th>\n",
       "      <th>date</th>\n",
       "      <th>text</th>\n",
       "    </tr>\n",
       "  </thead>\n",
       "  <tbody>\n",
       "    <tr>\n",
       "      <th>0</th>\n",
       "      <td>2017-12-01</td>\n",
       "      <td>@ #3, Bitcoin Cash with unit price of $1,337.5...</td>\n",
       "    </tr>\n",
       "    <tr>\n",
       "      <th>1</th>\n",
       "      <td>2017-12-01</td>\n",
       "      <td>12/01 10:00現在\\n\\n#Bitcoin : 1,176,520円↓\\n#NEM ...</td>\n",
       "    </tr>\n",
       "    <tr>\n",
       "      <th>2</th>\n",
       "      <td>2017-12-01</td>\n",
       "      <td>Bitcoin - BTC\\nPrice: $10,075.90\\nChange in 1h...</td>\n",
       "    </tr>\n",
       "    <tr>\n",
       "      <th>3</th>\n",
       "      <td>2017-12-01</td>\n",
       "      <td>One Bitcoin now worth $9900.00@bitstamp. High ...</td>\n",
       "    </tr>\n",
       "    <tr>\n",
       "      <th>4</th>\n",
       "      <td>2017-12-01</td>\n",
       "      <td>01 Aralık 2017 Saat 04:00:02, Bitcoin Ne Kadar...</td>\n",
       "    </tr>\n",
       "  </tbody>\n",
       "</table>\n",
       "</div>"
      ],
      "text/plain": [
       "        date                                               text\n",
       "0 2017-12-01  @ #3, Bitcoin Cash with unit price of $1,337.5...\n",
       "1 2017-12-01  12/01 10:00現在\\n\\n#Bitcoin : 1,176,520円↓\\n#NEM ...\n",
       "2 2017-12-01  Bitcoin - BTC\\nPrice: $10,075.90\\nChange in 1h...\n",
       "3 2017-12-01  One Bitcoin now worth $9900.00@bitstamp. High ...\n",
       "4 2017-12-01  01 Aralık 2017 Saat 04:00:02, Bitcoin Ne Kadar..."
      ]
     },
     "execution_count": 24,
     "metadata": {},
     "output_type": "execute_result"
    }
   ],
   "source": [
    "# retrieve only necessary columns\n",
    "tweets_data = tweets_data[['timestamp', 'text']]\n",
    "# change timestamp dtype into datetime, sorting, retrieve only date from timestamp\n",
    "tweets_data['timestamp'] = pd.to_datetime(tweets_data['timestamp'])\n",
    "tweets_data = tweets_data.sort_values(by='timestamp', ascending=True)\n",
    "tweets_data['date'] = tweets_data['timestamp'].dt.date\n",
    "tweets_data['date'] = pd.to_datetime(tweets_data['date'])\n",
    "# filter date only from Dec, 2017 to March, 2018\n",
    "start_date = '2017-12-01'\n",
    "end_date = '2018-03-31'\n",
    "mask = (tweets_data['date'] >= start_date) & (tweets_data['date'] <= end_date)\n",
    "tweets_data = tweets_data.loc[mask]\n",
    "tweets_data = tweets_data.reset_index(drop=True)\n",
    "tweets_data = tweets_data[['date', 'text']]\n",
    "tweets_data.head()"
   ]
  },
  {
   "cell_type": "code",
   "execution_count": 27,
   "metadata": {
    "scrolled": true
   },
   "outputs": [
    {
     "data": {
      "text/plain": [
       "(641253, 2)"
      ]
     },
     "execution_count": 27,
     "metadata": {},
     "output_type": "execute_result"
    }
   ],
   "source": [
    "# tweets data dimensionality\n",
    "tweets_data.shape"
   ]
  },
  {
   "cell_type": "markdown",
   "metadata": {},
   "source": [
    "### Price Data Loading"
   ]
  },
  {
   "cell_type": "code",
   "execution_count": 39,
   "metadata": {},
   "outputs": [],
   "source": [
    "# xbtusd/btcusd 5 minute ticker data loading\n",
    "xbtusd = pd.read_csv('xbt.csv')\n",
    "xbtusd = xbtusd[['timestamp', 'open', 'high', 'low', 'close']]"
   ]
  },
  {
   "cell_type": "code",
   "execution_count": 40,
   "metadata": {},
   "outputs": [],
   "source": [
    "# change timestamp datatype to datetime\n",
    "xbtusd['timestamp'] = pd.to_datetime(xbtusd['timestamp'])"
   ]
  },
  {
   "cell_type": "code",
   "execution_count": 41,
   "metadata": {},
   "outputs": [],
   "source": [
    "# filter date only from Dec, 2017 to March, 2018\n",
    "mask = (xbtusd['timestamp'] > start_date) & (xbtusd['timestamp'] <= end_date)\n",
    "xbtusd = xbtusd.loc[mask]\n",
    "xbtusd = xbtusd.reset_index(drop=True)\n",
    "xbtusd = xbtusd.set_index(['timestamp'])"
   ]
  },
  {
   "cell_type": "code",
   "execution_count": 42,
   "metadata": {},
   "outputs": [],
   "source": [
    "# resampling 5 minute ticker data into daily\n",
    "xbtusd = xbtusd.resample('D', label='left').agg({'open':'first', 'high':'max', 'low':'min', 'close':'last'})\n",
    "# converting timestamp to date\n",
    "xbtusd['timestamp'] = xbtusd.index\n",
    "# get date only from timestamp\n",
    "xbtusd['date'] = xbtusd['timestamp'].dt.date\n",
    "# change date datatype to datetime\n",
    "xbtusd['date'] = pd.to_datetime(xbtusd['date'])"
   ]
  },
  {
   "cell_type": "code",
   "execution_count": 43,
   "metadata": {},
   "outputs": [
    {
     "data": {
      "text/html": [
       "<div>\n",
       "<style scoped>\n",
       "    .dataframe tbody tr th:only-of-type {\n",
       "        vertical-align: middle;\n",
       "    }\n",
       "\n",
       "    .dataframe tbody tr th {\n",
       "        vertical-align: top;\n",
       "    }\n",
       "\n",
       "    .dataframe thead th {\n",
       "        text-align: right;\n",
       "    }\n",
       "</style>\n",
       "<table border=\"1\" class=\"dataframe\">\n",
       "  <thead>\n",
       "    <tr style=\"text-align: right;\">\n",
       "      <th></th>\n",
       "      <th>date</th>\n",
       "      <th>open</th>\n",
       "      <th>high</th>\n",
       "      <th>low</th>\n",
       "      <th>close</th>\n",
       "    </tr>\n",
       "  </thead>\n",
       "  <tbody>\n",
       "    <tr>\n",
       "      <th>0</th>\n",
       "      <td>2017-12-01</td>\n",
       "      <td>9960.0</td>\n",
       "      <td>10988.0</td>\n",
       "      <td>9347.5</td>\n",
       "      <td>10827.0</td>\n",
       "    </tr>\n",
       "    <tr>\n",
       "      <th>1</th>\n",
       "      <td>2017-12-02</td>\n",
       "      <td>10827.0</td>\n",
       "      <td>11262.5</td>\n",
       "      <td>10676.5</td>\n",
       "      <td>10974.0</td>\n",
       "    </tr>\n",
       "    <tr>\n",
       "      <th>2</th>\n",
       "      <td>2017-12-03</td>\n",
       "      <td>10974.0</td>\n",
       "      <td>11896.0</td>\n",
       "      <td>10402.0</td>\n",
       "      <td>11080.0</td>\n",
       "    </tr>\n",
       "    <tr>\n",
       "      <th>3</th>\n",
       "      <td>2017-12-04</td>\n",
       "      <td>11080.0</td>\n",
       "      <td>11653.0</td>\n",
       "      <td>10856.0</td>\n",
       "      <td>11519.0</td>\n",
       "    </tr>\n",
       "    <tr>\n",
       "      <th>4</th>\n",
       "      <td>2017-12-05</td>\n",
       "      <td>11519.0</td>\n",
       "      <td>11961.0</td>\n",
       "      <td>11451.0</td>\n",
       "      <td>11753.5</td>\n",
       "    </tr>\n",
       "  </tbody>\n",
       "</table>\n",
       "</div>"
      ],
      "text/plain": [
       "        date     open     high      low    close\n",
       "0 2017-12-01   9960.0  10988.0   9347.5  10827.0\n",
       "1 2017-12-02  10827.0  11262.5  10676.5  10974.0\n",
       "2 2017-12-03  10974.0  11896.0  10402.0  11080.0\n",
       "3 2017-12-04  11080.0  11653.0  10856.0  11519.0\n",
       "4 2017-12-05  11519.0  11961.0  11451.0  11753.5"
      ]
     },
     "execution_count": 43,
     "metadata": {},
     "output_type": "execute_result"
    }
   ],
   "source": [
    "xbtusd = xbtusd[['date', 'open', 'high', 'low', 'close']]\n",
    "xbtusd = xbtusd.reset_index(drop=True)\n",
    "xbtusd.head()"
   ]
  },
  {
   "cell_type": "code",
   "execution_count": 46,
   "metadata": {},
   "outputs": [
    {
     "data": {
      "text/plain": [
       "(121, 5)"
      ]
     },
     "execution_count": 46,
     "metadata": {},
     "output_type": "execute_result"
    }
   ],
   "source": [
    "xbtusd.shape"
   ]
  },
  {
   "cell_type": "markdown",
   "metadata": {},
   "source": [
    "## Data Preparation\n",
    "\n",
    "### Null Value Cleaning"
   ]
  },
  {
   "cell_type": "code",
   "execution_count": 28,
   "metadata": {},
   "outputs": [
    {
     "data": {
      "text/plain": [
       "date     0\n",
       "text    73\n",
       "dtype: int64"
      ]
     },
     "execution_count": 28,
     "metadata": {},
     "output_type": "execute_result"
    }
   ],
   "source": [
    "# check null value\n",
    "tweets_data.isnull().sum(axis=0)"
   ]
  },
  {
   "cell_type": "code",
   "execution_count": 30,
   "metadata": {},
   "outputs": [
    {
     "data": {
      "text/html": [
       "<div>\n",
       "<style scoped>\n",
       "    .dataframe tbody tr th:only-of-type {\n",
       "        vertical-align: middle;\n",
       "    }\n",
       "\n",
       "    .dataframe tbody tr th {\n",
       "        vertical-align: top;\n",
       "    }\n",
       "\n",
       "    .dataframe thead th {\n",
       "        text-align: right;\n",
       "    }\n",
       "</style>\n",
       "<table border=\"1\" class=\"dataframe\">\n",
       "  <thead>\n",
       "    <tr style=\"text-align: right;\">\n",
       "      <th></th>\n",
       "      <th>date</th>\n",
       "      <th>text</th>\n",
       "    </tr>\n",
       "  </thead>\n",
       "  <tbody>\n",
       "    <tr>\n",
       "      <th>0</th>\n",
       "      <td>2017-12-01</td>\n",
       "      <td>@ #3, Bitcoin Cash with unit price of $1,337.5...</td>\n",
       "    </tr>\n",
       "    <tr>\n",
       "      <th>1</th>\n",
       "      <td>2017-12-01</td>\n",
       "      <td>12/01 10:00現在\\n\\n#Bitcoin : 1,176,520円↓\\n#NEM ...</td>\n",
       "    </tr>\n",
       "    <tr>\n",
       "      <th>2</th>\n",
       "      <td>2017-12-01</td>\n",
       "      <td>Bitcoin - BTC\\nPrice: $10,075.90\\nChange in 1h...</td>\n",
       "    </tr>\n",
       "    <tr>\n",
       "      <th>3</th>\n",
       "      <td>2017-12-01</td>\n",
       "      <td>One Bitcoin now worth $9900.00@bitstamp. High ...</td>\n",
       "    </tr>\n",
       "    <tr>\n",
       "      <th>4</th>\n",
       "      <td>2017-12-01</td>\n",
       "      <td>01 Aralık 2017 Saat 04:00:02, Bitcoin Ne Kadar...</td>\n",
       "    </tr>\n",
       "  </tbody>\n",
       "</table>\n",
       "</div>"
      ],
      "text/plain": [
       "        date                                               text\n",
       "0 2017-12-01  @ #3, Bitcoin Cash with unit price of $1,337.5...\n",
       "1 2017-12-01  12/01 10:00現在\\n\\n#Bitcoin : 1,176,520円↓\\n#NEM ...\n",
       "2 2017-12-01  Bitcoin - BTC\\nPrice: $10,075.90\\nChange in 1h...\n",
       "3 2017-12-01  One Bitcoin now worth $9900.00@bitstamp. High ...\n",
       "4 2017-12-01  01 Aralık 2017 Saat 04:00:02, Bitcoin Ne Kadar..."
      ]
     },
     "execution_count": 30,
     "metadata": {},
     "output_type": "execute_result"
    }
   ],
   "source": [
    "# remove null value\n",
    "tweets_data = tweets_data.dropna()\n",
    "tweets_data = tweets_data[['date', 'text']].reset_index(drop=True)\n",
    "tweets_data.head()"
   ]
  },
  {
   "cell_type": "markdown",
   "metadata": {},
   "source": [
    "### Tweets data cleaning"
   ]
  },
  {
   "cell_type": "code",
   "execution_count": 33,
   "metadata": {},
   "outputs": [],
   "source": [
    "# punctuation tokenizer\n",
    "tok = WordPunctTokenizer()\n",
    "\n",
    "# cleaning @ mention\n",
    "pattern_1 = r'@[A-Za-z0-9]+'\n",
    "\n",
    "# cleaning url links\n",
    "pattern_2 = r'https?://[A-Za-z0-9./]+'\n",
    "combined_pattern = r'|'.join((pattern_1, pattern_2))\n",
    "\n",
    "def tweet_cleaner(text):\n",
    "    decoded_html = html.unescape(text)\n",
    "    stripped = re.sub(combined_pattern, '', decoded_html)\n",
    "    try:\n",
    "        clean = stripped.decode(\"utf-8-sig\").replace(u\"\\ufffd\", \"?\")\n",
    "    except:\n",
    "        clean = stripped\n",
    "    # cleaning hashtag and numbers\n",
    "    letters_only = re.sub(\"[^a-zA-Z]\", \" \", clean)\n",
    "    # lower case\n",
    "    lower_case = letters_only.lower()\n",
    "    words = tok.tokenize(lower_case)\n",
    "    return (\" \".join(words)).strip()"
   ]
  },
  {
   "cell_type": "code",
   "execution_count": 34,
   "metadata": {
    "scrolled": false
   },
   "outputs": [
    {
     "name": "stderr",
     "output_type": "stream",
     "text": [
      "100%|██████████| 641180/641180 [00:23<00:00, 26769.72it/s]\n"
     ]
    }
   ],
   "source": [
    "clean_tweet_texts = []\n",
    "for i in tqdm(range(len(tweets_data))):                                                        \n",
    "    clean_tweet_texts.append(tweet_cleaner(tweets_data['text'][i]))"
   ]
  },
  {
   "cell_type": "code",
   "execution_count": 68,
   "metadata": {
    "scrolled": false
   },
   "outputs": [
    {
     "data": {
      "text/html": [
       "<div>\n",
       "<style scoped>\n",
       "    .dataframe tbody tr th:only-of-type {\n",
       "        vertical-align: middle;\n",
       "    }\n",
       "\n",
       "    .dataframe tbody tr th {\n",
       "        vertical-align: top;\n",
       "    }\n",
       "\n",
       "    .dataframe thead th {\n",
       "        text-align: right;\n",
       "    }\n",
       "</style>\n",
       "<table border=\"1\" class=\"dataframe\">\n",
       "  <thead>\n",
       "    <tr style=\"text-align: right;\">\n",
       "      <th></th>\n",
       "      <th>date</th>\n",
       "      <th>text</th>\n",
       "      <th>clean_text</th>\n",
       "      <th>score</th>\n",
       "    </tr>\n",
       "  </thead>\n",
       "  <tbody>\n",
       "    <tr>\n",
       "      <th>0</th>\n",
       "      <td>2017-12-01</td>\n",
       "      <td>@ #3, Bitcoin Cash with unit price of $1,337.5...</td>\n",
       "      <td>bitcoin cash with unit price of market cap of ...</td>\n",
       "      <td>0.0000</td>\n",
       "    </tr>\n",
       "    <tr>\n",
       "      <th>1</th>\n",
       "      <td>2017-12-01</td>\n",
       "      <td>12/01 10:00現在\\n\\n#Bitcoin : 1,176,520円↓\\n#NEM ...</td>\n",
       "      <td>bitcoin nem xem monacoin ethereum zaif</td>\n",
       "      <td>0.0000</td>\n",
       "    </tr>\n",
       "    <tr>\n",
       "      <th>2</th>\n",
       "      <td>2017-12-01</td>\n",
       "      <td>Bitcoin - BTC\\nPrice: $10,075.90\\nChange in 1h...</td>\n",
       "      <td>bitcoin btc price change in h market cap ranki...</td>\n",
       "      <td>0.0000</td>\n",
       "    </tr>\n",
       "    <tr>\n",
       "      <th>3</th>\n",
       "      <td>2017-12-01</td>\n",
       "      <td>One Bitcoin now worth $9900.00@bitstamp. High ...</td>\n",
       "      <td>one bitcoin now worth high low market cap bill...</td>\n",
       "      <td>-0.0516</td>\n",
       "    </tr>\n",
       "    <tr>\n",
       "      <th>4</th>\n",
       "      <td>2017-12-01</td>\n",
       "      <td>01 Aralık 2017 Saat 04:00:02, Bitcoin Ne Kadar...</td>\n",
       "      <td>aral k saat bitcoin ne kadar oldu tl bitcointl...</td>\n",
       "      <td>0.0000</td>\n",
       "    </tr>\n",
       "  </tbody>\n",
       "</table>\n",
       "</div>"
      ],
      "text/plain": [
       "        date                                               text  \\\n",
       "0 2017-12-01  @ #3, Bitcoin Cash with unit price of $1,337.5...   \n",
       "1 2017-12-01  12/01 10:00現在\\n\\n#Bitcoin : 1,176,520円↓\\n#NEM ...   \n",
       "2 2017-12-01  Bitcoin - BTC\\nPrice: $10,075.90\\nChange in 1h...   \n",
       "3 2017-12-01  One Bitcoin now worth $9900.00@bitstamp. High ...   \n",
       "4 2017-12-01  01 Aralık 2017 Saat 04:00:02, Bitcoin Ne Kadar...   \n",
       "\n",
       "                                          clean_text   score  \n",
       "0  bitcoin cash with unit price of market cap of ...  0.0000  \n",
       "1             bitcoin nem xem monacoin ethereum zaif  0.0000  \n",
       "2  bitcoin btc price change in h market cap ranki...  0.0000  \n",
       "3  one bitcoin now worth high low market cap bill... -0.0516  \n",
       "4  aral k saat bitcoin ne kadar oldu tl bitcointl...  0.0000  "
      ]
     },
     "execution_count": 68,
     "metadata": {},
     "output_type": "execute_result"
    }
   ],
   "source": [
    "tweets_data['clean_text'] = clean_tweet_texts\n",
    "tweets_data.head()"
   ]
  },
  {
   "cell_type": "markdown",
   "metadata": {},
   "source": [
    "## Data Analysis"
   ]
  },
  {
   "cell_type": "markdown",
   "metadata": {},
   "source": [
    "We ran our sentiment analysis using VADER, \"Valence Aware Dictionary sEntiment Reasoner\". It is an excellent sentiment analysis library especially for social media text."
   ]
  },
  {
   "cell_type": "code",
   "execution_count": 38,
   "metadata": {
    "scrolled": true
   },
   "outputs": [
    {
     "name": "stderr",
     "output_type": "stream",
     "text": [
      "100%|██████████| 641180/641180 [1:17:21<00:00, 138.13it/s]\n"
     ]
    }
   ],
   "source": [
    "results = []\n",
    "\n",
    "for tweets in tqdm(tweets_data['clean_text']):\n",
    "    pol_score = SIA().polarity_scores(tweets)\n",
    "    pol_score['tweets'] = tweets\n",
    "    results.append(pol_score)"
   ]
  },
  {
   "cell_type": "code",
   "execution_count": 47,
   "metadata": {},
   "outputs": [],
   "source": [
    "# retrieving score data from result list\n",
    "tweets_data['score'] = pd.DataFrame(results)['compound']"
   ]
  },
  {
   "cell_type": "code",
   "execution_count": 48,
   "metadata": {},
   "outputs": [
    {
     "data": {
      "text/html": [
       "<div>\n",
       "<style scoped>\n",
       "    .dataframe tbody tr th:only-of-type {\n",
       "        vertical-align: middle;\n",
       "    }\n",
       "\n",
       "    .dataframe tbody tr th {\n",
       "        vertical-align: top;\n",
       "    }\n",
       "\n",
       "    .dataframe thead th {\n",
       "        text-align: right;\n",
       "    }\n",
       "</style>\n",
       "<table border=\"1\" class=\"dataframe\">\n",
       "  <thead>\n",
       "    <tr style=\"text-align: right;\">\n",
       "      <th></th>\n",
       "      <th>date</th>\n",
       "      <th>score</th>\n",
       "    </tr>\n",
       "  </thead>\n",
       "  <tbody>\n",
       "    <tr>\n",
       "      <th>0</th>\n",
       "      <td>2017-12-01</td>\n",
       "      <td>0.056247</td>\n",
       "    </tr>\n",
       "    <tr>\n",
       "      <th>1</th>\n",
       "      <td>2017-12-02</td>\n",
       "      <td>0.042122</td>\n",
       "    </tr>\n",
       "    <tr>\n",
       "      <th>2</th>\n",
       "      <td>2017-12-03</td>\n",
       "      <td>0.040406</td>\n",
       "    </tr>\n",
       "    <tr>\n",
       "      <th>3</th>\n",
       "      <td>2017-12-04</td>\n",
       "      <td>0.045195</td>\n",
       "    </tr>\n",
       "    <tr>\n",
       "      <th>4</th>\n",
       "      <td>2017-12-05</td>\n",
       "      <td>0.038350</td>\n",
       "    </tr>\n",
       "  </tbody>\n",
       "</table>\n",
       "</div>"
      ],
      "text/plain": [
       "        date     score\n",
       "0 2017-12-01  0.056247\n",
       "1 2017-12-02  0.042122\n",
       "2 2017-12-03  0.040406\n",
       "3 2017-12-04  0.045195\n",
       "4 2017-12-05  0.038350"
      ]
     },
     "execution_count": 48,
     "metadata": {},
     "output_type": "execute_result"
    }
   ],
   "source": [
    "# generating daily sentiment data from grouped by date tweets data \n",
    "daily_sentiment = tweets_data.groupby(['date']).mean()\n",
    "daily_sentiment['date'] = daily_sentiment.index\n",
    "# change date datatype into datetime\n",
    "daily_sentiment['date'] = pd.to_datetime(daily_sentiment['date'])\n",
    "daily_sentiment = daily_sentiment[['date', 'score']]\n",
    "daily_sentiment = daily_sentiment.reset_index(drop=True)\n",
    "daily_sentiment.head()"
   ]
  },
  {
   "cell_type": "code",
   "execution_count": 49,
   "metadata": {},
   "outputs": [
    {
     "name": "stdout",
     "output_type": "stream",
     "text": [
      "<class 'pandas.core.frame.DataFrame'>\n",
      "RangeIndex: 121 entries, 0 to 120\n",
      "Data columns (total 2 columns):\n",
      " #   Column  Non-Null Count  Dtype         \n",
      "---  ------  --------------  -----         \n",
      " 0   date    121 non-null    datetime64[ns]\n",
      " 1   score   121 non-null    float64       \n",
      "dtypes: datetime64[ns](1), float64(1)\n",
      "memory usage: 2.0 KB\n"
     ]
    }
   ],
   "source": [
    "daily_sentiment.info()"
   ]
  },
  {
   "cell_type": "code",
   "execution_count": 50,
   "metadata": {},
   "outputs": [],
   "source": [
    "final = pd.merge(xbtusd, daily_sentiment, how='inner', on='date')"
   ]
  },
  {
   "cell_type": "code",
   "execution_count": 51,
   "metadata": {
    "scrolled": true
   },
   "outputs": [],
   "source": [
    "# generating score moving average\n",
    "final['score_ma'] = final['score'].rolling(10).mean()"
   ]
  },
  {
   "cell_type": "code",
   "execution_count": 52,
   "metadata": {
    "scrolled": true
   },
   "outputs": [
    {
     "data": {
      "text/html": [
       "<div>\n",
       "<style scoped>\n",
       "    .dataframe tbody tr th:only-of-type {\n",
       "        vertical-align: middle;\n",
       "    }\n",
       "\n",
       "    .dataframe tbody tr th {\n",
       "        vertical-align: top;\n",
       "    }\n",
       "\n",
       "    .dataframe thead th {\n",
       "        text-align: right;\n",
       "    }\n",
       "</style>\n",
       "<table border=\"1\" class=\"dataframe\">\n",
       "  <thead>\n",
       "    <tr style=\"text-align: right;\">\n",
       "      <th></th>\n",
       "      <th>date</th>\n",
       "      <th>open</th>\n",
       "      <th>high</th>\n",
       "      <th>low</th>\n",
       "      <th>close</th>\n",
       "      <th>score</th>\n",
       "      <th>score_ma</th>\n",
       "    </tr>\n",
       "  </thead>\n",
       "  <tbody>\n",
       "    <tr>\n",
       "      <th>0</th>\n",
       "      <td>2017-12-01</td>\n",
       "      <td>9960.0</td>\n",
       "      <td>10988.0</td>\n",
       "      <td>9347.5</td>\n",
       "      <td>10827.0</td>\n",
       "      <td>0.056247</td>\n",
       "      <td>NaN</td>\n",
       "    </tr>\n",
       "    <tr>\n",
       "      <th>1</th>\n",
       "      <td>2017-12-02</td>\n",
       "      <td>10827.0</td>\n",
       "      <td>11262.5</td>\n",
       "      <td>10676.5</td>\n",
       "      <td>10974.0</td>\n",
       "      <td>0.042122</td>\n",
       "      <td>NaN</td>\n",
       "    </tr>\n",
       "    <tr>\n",
       "      <th>2</th>\n",
       "      <td>2017-12-03</td>\n",
       "      <td>10974.0</td>\n",
       "      <td>11896.0</td>\n",
       "      <td>10402.0</td>\n",
       "      <td>11080.0</td>\n",
       "      <td>0.040406</td>\n",
       "      <td>NaN</td>\n",
       "    </tr>\n",
       "    <tr>\n",
       "      <th>3</th>\n",
       "      <td>2017-12-04</td>\n",
       "      <td>11080.0</td>\n",
       "      <td>11653.0</td>\n",
       "      <td>10856.0</td>\n",
       "      <td>11519.0</td>\n",
       "      <td>0.045195</td>\n",
       "      <td>NaN</td>\n",
       "    </tr>\n",
       "    <tr>\n",
       "      <th>4</th>\n",
       "      <td>2017-12-05</td>\n",
       "      <td>11519.0</td>\n",
       "      <td>11961.0</td>\n",
       "      <td>11451.0</td>\n",
       "      <td>11753.5</td>\n",
       "      <td>0.038350</td>\n",
       "      <td>NaN</td>\n",
       "    </tr>\n",
       "  </tbody>\n",
       "</table>\n",
       "</div>"
      ],
      "text/plain": [
       "        date     open     high      low    close     score  score_ma\n",
       "0 2017-12-01   9960.0  10988.0   9347.5  10827.0  0.056247       NaN\n",
       "1 2017-12-02  10827.0  11262.5  10676.5  10974.0  0.042122       NaN\n",
       "2 2017-12-03  10974.0  11896.0  10402.0  11080.0  0.040406       NaN\n",
       "3 2017-12-04  11080.0  11653.0  10856.0  11519.0  0.045195       NaN\n",
       "4 2017-12-05  11519.0  11961.0  11451.0  11753.5  0.038350       NaN"
      ]
     },
     "execution_count": 52,
     "metadata": {},
     "output_type": "execute_result"
    }
   ],
   "source": [
    "final.head()"
   ]
  },
  {
   "cell_type": "markdown",
   "metadata": {},
   "source": [
    "## Data Visualization"
   ]
  },
  {
   "cell_type": "code",
   "execution_count": 61,
   "metadata": {},
   "outputs": [
    {
     "data": {
      "image/png": "[encoded data removed]",
      "text/plain": [
       "<Figure size 504x504 with 2 Axes>"
      ]
     },
     "metadata": {
      "needs_background": "light"
     },
     "output_type": "display_data"
    }
   ],
   "source": [
    "fig, ax = plt.subplots(2, 1, sharex=True, figsize = (7, 7))\n",
    "plt.xticks(rotation=70)\n",
    "ax[0].plot('date', 'close', data=final)\n",
    "ax[1].plot('date', 'score', data=final, color=\"green\")\n",
    "ax[1].plot('date', 'score_ma', data=final, color=\"orange\")\n",
    "ax[0].set_title('Bitcoin Close Price')\n",
    "ax[1].set_title('Sentiment Score')\n",
    "\n",
    "plt.show();"
   ]
  },
  {
   "cell_type": "markdown",
   "metadata": {},
   "source": [
    "## Limitation, Conclusion and Future Scope"
   ]
  },
  {
   "cell_type": "code",
   "execution_count": null,
   "metadata": {},
   "outputs": [],
   "source": []
  }
 ],
 "metadata": {
  "kernelspec": {
   "display_name": "auto journal",
   "language": "python",
   "name": "auto-journal"
  },
  "language_info": {
   "codemirror_mode": {
    "name": "ipython",
    "version": 3
   },
   "file_extension": ".py",
   "mimetype": "text/x-python",
   "name": "python",
   "nbconvert_exporter": "python",
   "pygments_lexer": "ipython3",
   "version": "3.7.6"
  },
  "toc": {
   "base_numbering": 1,
   "nav_menu": {},
   "number_sections": true,
   "sideBar": true,
   "skip_h1_title": true,
   "title_cell": "Table of Contents",
   "title_sidebar": "Contents",
   "toc_cell": false,
   "toc_position": {},
   "toc_section_display": true,
   "toc_window_display": false
  },
  "varInspector": {
   "cols": {
    "lenName": 16,
    "lenType": 16,
    "lenVar": 40
   },
   "kernels_config": {
    "python": {
     "delete_cmd_postfix": "",
     "delete_cmd_prefix": "del ",
     "library": "var_list.py",
     "varRefreshCmd": "print(var_dic_list())"
    },
    "r": {
     "delete_cmd_postfix": ") ",
     "delete_cmd_prefix": "rm(",
     "library": "var_list.r",
     "varRefreshCmd": "cat(var_dic_list()) "
    }
   },
   "types_to_exclude": [
    "module",
    "function",
    "builtin_function_or_method",
    "instance",
    "_Feature"
   ],
   "window_display": false
  }
 },
 "nbformat": 4,
 "nbformat_minor": 4
}
